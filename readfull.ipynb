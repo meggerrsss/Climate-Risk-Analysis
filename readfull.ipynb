{
 "cells": [
  {
   "cell_type": "markdown",
   "id": "ed95b426",
   "metadata": {},
   "source": [
    "for reading data downloads from climate-data.ca's statistically downscaled gcms\n",
    "https://climatedata.ca/download/"
   ]
  },
  {
   "cell_type": "code",
   "execution_count": 1,
   "id": "64cd7fd8",
   "metadata": {},
   "outputs": [],
   "source": [
    "import pandas as pd\n",
    "import xarray as xr\n",
    "import numpy as np\n",
    "import os\n",
    "folder = r\"C:\\Climate-Data\\stjohns\""
   ]
  },
  {
   "cell_type": "code",
   "execution_count": 2,
   "id": "d6882b0f",
   "metadata": {},
   "outputs": [
    {
     "name": "stdout",
     "output_type": "stream",
     "text": [
      "{'Conventions': 'CF-1.7 CMIP-6.2', 'GCM__experiment': 'historical,ssp126', 'GCM__experiment_id': 'historical,ssp126', 'GCM__initialization_index': '1', 'activity_id': 'CMIP', 'cat:_data_format_': 'zarr', 'cat:activity': 'ScenarioMIP', 'cat:bias_adjust_institution': 'PCIC', 'cat:bias_adjust_project': 'CanDCS-M6', 'cat:domain': 'CAN', 'cat:experiment': 'ssp126', 'cat:mip_era': 'CMIP6', 'cat:name': 'tg_mean_ann', 'cat:processing_level': 'percentiles', 'cat:type': 'simulation', 'cat:variable': 'tg_mean', 'cat:version': 'v10', 'cat:xrfreq': 'YS', 'contact': 'Pacific Climate Impacts Consortium', 'domain': 'Canada', 'frequency': 'day', 'institution': 'Pacific Climate Impacts Consortium (PCIC), Victoria, BC, www.pacificclimate.org', 'institution_id': 'PCIC', 'method': 'Multivariate Bias Correcation N-dimensional PDF transform (MBCn)', 'method_id': 'MBCn', 'mip_era': 'CMIP6', 'modeling_realm': 'atmos', 'package_id': 'https://cran.r-project.org/package=MBC', 'product': 'downscaled output', 'product_id': 'CanDCS-M6', 'product_title': 'Canadian Downscaled Climate Scenarios – Multivariate (CMIP6)', 'project_id': 'CMIP6', 'references': 'Cannon, A.J. Multivariate quantile mapping bias correction: an N-dimensional probability density function transform for climate model simulations of multiple variables. Clim Dyn 50, 31–49 (2018). https://doi.org/10.1007/s00382-017-3580-6', 'table_id': 'day', 'target__contact': 'Pacific Climate Impacts Consortium', 'target__dataset': 'PCIC-Blend daily 300 arc second climate grids', 'target__dataset_id': 'PCIC-Blend', 'target__institution': 'Pacific Climate Impacts Consortium', 'target__institution_id': 'PCIC', 'target__references': 'Werner, A.T., Schnorbus, M.A., Shrestha, R.R., Cannon, A.J., Zwiers, F.W., Dayon G., Anslow, F., 2019. A long-term, temporally consistent, gridded daily meteorological dataset for northwestern North America, Scientific Data, 6, 180299 \\nMacDonald H, McKenney DW, Wang XL, Pedlar J, Papadopol P, Lawrence K, Feng Y, Hutchinson MF (2021) Spatial models of adjusted precipitation for Canada at varying time scales. Journal of Applied Meteorology and Climatology \\nMcKenney, D.W., Hutchinson, M.F., Papadopol, P., Lawrence, K., Pedlar, J., Campbell, K., Milewska, E., Hopkinson, R., Price, D., and Owen, T., 2011. Customized spatial climate models for North America. Bulletin of the American Meteorological Society, 92(12): 1611-1622. \\nHopkinson, R.F., McKenney, D.W., Milewska, E.J., Hutchinson, M.F., Papadopol, P., Vincent, L.A., 2011. Impact of aligning climatological day on gridding daily maximum-minimum temperature and precipitation over Canada. Journal of Applied Meteorology and Climatology 50: 1654-1665.', 'target__version': '2.1 (September 2021)', 'intake_esm_vars': 'tg_mean', 'cat:id': 'CanDCS-M6_CMIP6_ScenarioMIP_ssp126_CAN', 'ensemble_size': np.int64(26), 'cat:one_var': 'tg_mean'}\n"
     ]
    }
   ],
   "source": [
    "file = 'tg_mean.nc'\n",
    "temp = xr.open_dataset(os.path.join(folder, file), decode_timedelta = False)\n",
    "print(temp.attrs)\n"
   ]
  }
 ],
 "metadata": {
  "kernelspec": {
   "display_name": "climate",
   "language": "python",
   "name": "python3"
  },
  "language_info": {
   "codemirror_mode": {
    "name": "ipython",
    "version": 3
   },
   "file_extension": ".py",
   "mimetype": "text/x-python",
   "name": "python",
   "nbconvert_exporter": "python",
   "pygments_lexer": "ipython3",
   "version": "3.13.5"
  }
 },
 "nbformat": 4,
 "nbformat_minor": 5
}
